{
 "cells": [
  {
   "cell_type": "markdown",
   "id": "bee2106e-610c-4b57-b246-831abe4a601b",
   "metadata": {},
   "source": [
    "## Inverse Scan Augmentation\n",
    "\n",
    "the inversion of the segmentation masks of the augmented CT-scans back to the affine of the ground truth segmentation masks. As a prerequisite, the user must provide the ground truth CT scan files as well as the corresponding ground truth segmentation masks.\n",
    "\n",
    "Please note that the function get_matching_segmentation_mask() might fail based on the naming convention employed in the augmentation pipeline.\n"
   ]
  },
  {
   "cell_type": "code",
   "execution_count": null,
   "id": "e839228a-3e6d-46c3-982e-8d7986c73b94",
   "metadata": {},
   "outputs": [],
   "source": [
    "import torch\n",
    "import torchio as tio\n",
    "import os \n",
    "import tkinter as tk\n",
    "from tkinter import filedialog\n",
    "from tqdm import tqdm\n",
    "import logging\n",
    "import traceback"
   ]
  },
  {
   "cell_type": "markdown",
   "id": "16265290-0058-4da1-ad8d-154302f1bc41",
   "metadata": {},
   "source": [
    "Set global variables"
   ]
  },
  {
   "cell_type": "code",
   "execution_count": null,
   "id": "45cf4176-c1bf-4478-a275-c97866e13c5b",
   "metadata": {},
   "outputs": [],
   "source": [
    "image_records = []\n",
    "list_of_ids = []\n",
    "inversion_list =[]\n",
    "timestamp = datetime.datetime.now().strftime(\"%Y%m%d_%H%M%S\")"
   ]
  },
  {
   "cell_type": "markdown",
   "id": "610cb14a-3529-465a-b0ba-0472c3d0c424",
   "metadata": {},
   "source": [
    "#### pick_files():\n",
    "The following method opens a series of file dialogs for the user to select directories and returns the selected paths.\n",
    "\n",
    "    The function prompts the user to select the following directories:\n",
    "    1. The folder containing the segmentation masks of the augmented CT-scans.\n",
    "    2. The folder containing the inversion information .pth file.\n",
    "    3. The output directory where processed files will be saved.\n",
    "    4. The directory for storing the logging file.\n",
    "\n",
    "    Returns:\n",
    "        tuple: A tuple containing four paths (transformed_ct_segmentation_masks_path, pth_file, output_path, logging_output_path)"
   ]
  },
  {
   "cell_type": "code",
   "execution_count": null,
   "id": "3210f5cf-73ad-4b34-9f69-7baf232a0fcf",
   "metadata": {},
   "outputs": [],
   "source": [
    "def pick_files():\n",
    "    root = tk.Tk()\n",
    "    root.withdraw()  # Hide the main tkinter window\n",
    "    transformed_ct_segmentation_masks_path = filedialog.askdirectory(title=\"Select the folder with the SEGMENTATION MASKS of THE AUGMENTED CT-SCANS\")  # Show a directory selection dialog\n",
    "    print(f\"Selected folder: {transformed_ct_segmentation_masks_path}\")\n",
    "    pth_file = filedialog.askopenfilename(title=\"Select the INVERSION INFORMATION .PTH FILE\")\n",
    "    print(f\"Selected file: {pth_file}\")\n",
    "    output_path = filedialog.askdirectory(title=\"Select the OUTPUT LOCATION for the OUTPUT FILES\")\n",
    "    print(f\"Selected folder: {output_path}\")\n",
    "    logging_output_path = filedialog.askdirectory(title=\"Select the OUTPUT LOCATION for the LOGGING FILE\")\n",
    "    print(f\"Selected folder: {logging_output_path}\")\n",
    "    return transformed_ct_segmentation_masks_path, pth_file, output_path, logging_output_path"
   ]
  },
  {
   "cell_type": "markdown",
   "id": "5c4f2e6b-377b-4fb8-8978-2949c99f96ac",
   "metadata": {},
   "source": [
    "#### get_nifti_file_paths():\n",
    "Retrieves the file paths of NIfTI files in the specified directory.\n",
    "\n",
    "This function searches for files with '.nii' or '.nii.gz' extensions\n",
    "in the given directory and returns their full paths.\n",
    "\n",
    "Args:\n",
    "    directory_path (str): The path to the directory containing NIfTI files.\n",
    "\n",
    "Returns:\n",
    "    list of str: A list of full file paths for each NIfTI file found in the directory."
   ]
  },
  {
   "cell_type": "code",
   "execution_count": null,
   "id": "ed9ae0da-cec8-42e5-8890-35be362c8c4e",
   "metadata": {},
   "outputs": [],
   "source": [
    "def get_nifti_file_paths(directory_path):\n",
    "    return [os.path.join(directory_path, f) for f in os.listdir(directory_path) if f.endswith('.nii') or f.endswith('.nii.gz')]\n"
   ]
  },
  {
   "cell_type": "markdown",
   "id": "94f3ad0c-2982-42e2-8d9e-ecf90e2e49df",
   "metadata": {},
   "source": [
    "#### get_matching_segmentation_mask():\n",
    "Finds the matching .pth file tuple containing the path of the corresponding ground truth segmentation mask from a list based on the filename extracted from the given path.\n",
    "\n",
    "This function extracts a filename from the `TS_GTCT_SM_path` and searches \n",
    "through `pth_touples` to find a tuple where the filename matches the basename of the path to the corresponding ground truth segmentation mask.\n",
    "\n",
    "Args:\n",
    "    TS_GTCT_SM_path (str): The file path of a transformed label map.\n",
    "    pth_touples (list of tuple): A list of tuples, where each tuple's first \n",
    "                                     element is a ground truth segmentation mask path.\n",
    "\n",
    "Returns:\n",
    "    tuple: The first matching tuple from `pth_touples` where the extracted \n",
    "           filename matches the basename of the ground truth segmentation mask path."
   ]
  },
  {
   "cell_type": "code",
   "execution_count": null,
   "id": "ae2981a0-3666-4ad8-b0ca-f90688cf6630",
   "metadata": {},
   "outputs": [],
   "source": [
    "def get_matching_segmentation_mask(TS_GTCT_SM_path, pth_touples):\n",
    "    file_name = os.path.basename(TS_GTCT_SM_path).split(\"SM\")[1].split(\".nii.gz\")[0]\n",
    "    for touple in pth_touples:\n",
    "        if file_name == os.path.basename(touple[0].split(\".nii.gz\")[0])[2:]:\n",
    "            return touple\n"
   ]
  },
  {
   "cell_type": "markdown",
   "id": "cc9c3328-f04f-4683-b8d3-c62ed8ed1720",
   "metadata": {},
   "source": [
    "#### apply_inverse_augmentation()\n",
    "Applies the inverse transformation from a .pth file to a transformed label map.\n",
    "\n",
    "This function takes a file path of a transformed label map and a tuple containing\n",
    "the path of the corresponding ground truth segmentation mask and the inverse\n",
    "transformation from a .pth file. It applies the inverse transformation to the\n",
    "transformed label map and returns a tuple containing the path of the ground\n",
    "truth segmentation mask and the transformed label map with the inverse\n",
    "transformation applied.\n",
    "\n",
    "Args:\n",
    "    TS_ACT_SM_path (str): The file path of a transformed label map.\n",
    "    path_inversion_touple (tuple): A tuple containing the path of the\n",
    "        corresponding ground truth segmentation mask and the inverse\n",
    "        transformation from a .pth file.\n",
    "\n",
    "Returns:\n",
    "    tuple: A tuple containing the path of the ground truth segmentation\n",
    "        mask and the transformed label map with the inverse transformation\n",
    "        applied."
   ]
  },
  {
   "cell_type": "code",
   "execution_count": 2,
   "id": "aa0029b6-3d13-4077-bd45-be45f73bf2a1",
   "metadata": {},
   "outputs": [],
   "source": [
    "def apply_inverse_augmentation(TS_ACT_SM_path, path_inversion_touple):\n",
    "    subject = tio.Subject(image=tio.LabelMap(TS_ACT_SM_path))\n",
    "    transformation = path_inversion_touple[1]\n",
    "    inverse_transformation = transformation(subject)\n",
    "    return (path_inversion_touple[0], inverse_transformation)"
   ]
  },
  {
   "cell_type": "markdown",
   "id": "db7128ce-89e3-4714-973b-bc8764a92901",
   "metadata": {},
   "source": [
    "#### save_as_nifti():\n",
    "Saves the inverse transformation of a label map as a NIfTI file to disk.\n",
    "\n",
    "Args:\n",
    "    inversion_touple (tuple): A tuple containing the original file path and the inverse transformation that was applied to the label map.\n",
    "    output_path (str): The directory where the transformed label map will be saved.\n",
    "\n",
    "Returns:\n",
    "    None"
   ]
  },
  {
   "cell_type": "code",
   "execution_count": null,
   "id": "a92296b0-37b4-4a01-9d69-8704ca8078da",
   "metadata": {},
   "outputs": [],
   "source": [
    "def save_as_nifti(inversion_touple, output_path):\n",
    "    filename=os.path.basename(inversion_touple[0]).split(\"SM_\")[1].split(\".nii.gz\")[0] + \"_INVERTED.nii.gz\"\n",
    "    output_path = get_unique_file_path(f\"{output_path}/{filename}\")\n",
    "    inversion_touple[1]['image'].save(output_path)"
   ]
  },
  {
   "cell_type": "markdown",
   "id": "63b0128a-ac6e-4043-9498-2034dd9ac99d",
   "metadata": {},
   "source": [
    "#### get_unique_file_path():\n",
    "\n",
    "Returns a unique file path if the given file path already exists.\n",
    "\n",
    "If the given file path does not exist, it is returned as is.\n",
    "If the file exists, a counter is added to the file name until a unique file is found.\n",
    "\n",
    "Parameters:\n",
    "\n",
    "    file_path : str\n",
    "        The file path to check\n",
    "\n",
    "Returns:\n",
    "\n",
    "    str\n",
    "        The unique file path"
   ]
  },
  {
   "cell_type": "code",
   "execution_count": null,
   "id": "106df528-b876-47ba-b0dd-0ed469f27b3d",
   "metadata": {},
   "outputs": [],
   "source": [
    "def get_unique_file_path(file_path):\n",
    "    if not os.path.exists(file_path):\n",
    "        return file_path\n",
    "\n",
    "    # If the file exists, modify the name to make it unique\n",
    "    base, _ = os.path.splitext(file_path)\n",
    "    counter = 1\n",
    "\n",
    "    # Add a counter to the file name until a unique file is found\n",
    "    while os.path.exists(file_path):\n",
    "        file_path = f\"{base}_({counter}).nii.gz\"\n",
    "        counter += 1\n",
    "\n",
    "    return file_path"
   ]
  },
  {
   "cell_type": "markdown",
   "id": "ae206d1e-8c9a-47ac-8cec-0ae7245e2229",
   "metadata": {},
   "source": [
    "### Running the different methods"
   ]
  },
  {
   "cell_type": "code",
   "execution_count": null,
   "id": "bbd55a07-72ab-4f02-bf68-6e6c2a3159e5",
   "metadata": {},
   "outputs": [],
   "source": [
    "# Pick files\n",
    "transformed_ct_segmentation_masks_path, pth_file, output_path, logging_output_path = pick_files()\n",
    "# Get nifti file paths\n",
    "TS_ACT_SM_file_list = get_nifti_file_paths(transformed_ct_segmentation_masks_path)\n",
    "# Load .pth file\n",
    "pth_touples = torch.load(pth_file, weights_only=False)\n",
    "# Set up logging\n",
    "logging_output_path = os.path.join(logging_output_path, f'inversion_error.log')\n",
    "logging.basicConfig(\n",
    "    filename=logging_output_path,\n",
    "    level=logging.ERROR,\n",
    "    format='%(asctime)s - %(levelname)s - %(message)s'\n",
    "    )\n",
    "# For each TS-ACT-SM file\n",
    "for TS_ACT_SM_file in tqdm(TS_ACT_SM_file_list, total=len(TS_ACT_SM_file_list), desc=\"Applying inverses\"):\n",
    "    try:\n",
    "        # Find matching ground truth segmentation mask and inversion transformation\n",
    "        inversion_touple = get_matching_segmentation_mask(TS_ACT_SM_file, pth_touples)\n",
    "        # Apply inverse\n",
    "        inverse_transformation = apply_inverse_augmentation(TS_ACT_SM_file,inversion_touple)\n",
    "        # Save inverse tranmsformation as nifti\n",
    "        save_as_nifti(inverse_transformation, output_path)\n",
    "    except Exception as e:\n",
    "        logging.error(f\"Error processing {TS_ACT_SM_file}: {e}, continuing...\")\n",
    "        logging.error(traceback.format_exc())\n",
    "        continue"
   ]
  }
 ],
 "metadata": {
  "kernelspec": {
   "display_name": "Python 3 (ipykernel)",
   "language": "python",
   "name": "python3"
  },
  "language_info": {
   "codemirror_mode": {
    "name": "ipython",
    "version": 3
   },
   "file_extension": ".py",
   "mimetype": "text/x-python",
   "name": "python",
   "nbconvert_exporter": "python",
   "pygments_lexer": "ipython3",
   "version": "3.9.19"
  }
 },
 "nbformat": 4,
 "nbformat_minor": 5
}
