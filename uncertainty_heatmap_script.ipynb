{
 "cells": [
  {
   "cell_type": "markdown",
   "id": "955eeb6b-649d-4112-9f56-811de9e2fa47",
   "metadata": {},
   "source": [
    "# Uncertainty Heatmaps\n",
    "This script handles the generation of uncertainty heatmaps.\n",
    "Please note that the get_corresponding_ISMs() function might fail based on the naming convention given during the inversion process."
   ]
  },
  {
   "cell_type": "code",
   "execution_count": null,
   "id": "35526aa1-9619-40a0-b0c3-8d643d3d3150",
   "metadata": {},
   "outputs": [],
   "source": [
    "import nibabel as nib\n",
    "import numpy as np\n",
    "import os\n",
    "from tqdm import tqdm\n",
    "import logging\n",
    "import tkinter as tk\n",
    "from tkinter import filedialog\n",
    "import traceback"
   ]
  },
  {
   "cell_type": "markdown",
   "id": "8a6014eb-1f81-49a0-a55f-21fa00335103",
   "metadata": {},
   "source": [
    "#### pick_files():\n",
    "Opens a series of file dialogs for the user to select directories and returns the selected paths.\n",
    "\n",
    "The function prompts the user to select the following directories:\n",
    "1. The folder containing the ground truth segmentation masks (GTSMs).\n",
    "2. The folder containing the inverted segmentation masks (ISMs).\n",
    "3. The output directory where processed files will be saved.\n",
    "4. The directory for storing the logging file.\n",
    "\n",
    "Returns:\n",
    "    tuple: A tuple containing four paths (GTSM_dir_path, ISM_dir_path, output_path, logging_output_path)."
   ]
  },
  {
   "cell_type": "code",
   "execution_count": null,
   "id": "369a38d8-f3b0-43b1-957e-261c994eeb82",
   "metadata": {},
   "outputs": [],
   "source": [
    "def pick_files():\n",
    "    root = tk.Tk()\n",
    "    root.withdraw()  # Hide the main tkinter window\n",
    "    GTSM_dir_path = filedialog.askdirectory(title=\"Select the folder with the GROUND TRUTH SEGMENTATION MASKS\")\n",
    "    print(f\"Selected folder: {GTSM_dir_path}\")\n",
    "    ISM_dir_path = filedialog.askdirectory(title=\"Select the folder with the INVERTED SEGMENTATION MASKS\")\n",
    "    print(f\"Selected file: {ISM_dir_path}\")\n",
    "    output_path = filedialog.askdirectory(title=\"Select the LOCATION for the OUTPUT FILES\")\n",
    "    print(f\"Selected folder: {output_path}\")\n",
    "    logging_output_path = filedialog.askdirectory(title=\"Select the LOCATION for the LOGGING FILE\")\n",
    "    print(f\"Selected folder: {logging_output_path}\")\n",
    "    return GTSM_dir_path, ISM_dir_path, output_path, logging_output_path"
   ]
  },
  {
   "cell_type": "markdown",
   "id": "43743453-9c07-4729-9c4e-4e5013e99e12",
   "metadata": {},
   "source": [
    "#### load_nifti_file():\n",
    "Load a NIfTI file and return its data as a numpy array.\n",
    "\n",
    "Parameters\n",
    "\n",
    "    filepath : str\n",
    "        The path to the NIfTI file to load.\n",
    "\n",
    "Returns\n",
    "\n",
    "    ndarray\n",
    "        The data of the NIfTI file as a numpy array."
   ]
  },
  {
   "cell_type": "code",
   "execution_count": null,
   "id": "b2ec3cad-5968-4c9a-8617-5cb0c498c386",
   "metadata": {},
   "outputs": [],
   "source": [
    "def load_nifti_file(filepath):\n",
    "    nifti = nib.load(filepath)\n",
    "    return nifti.get_fdata()"
   ]
  },
  {
   "cell_type": "markdown",
   "id": "f2f62124-3d1d-432a-8b5c-2def27f9a0c1",
   "metadata": {},
   "source": [
    "#### calculate_uncertainty():\n",
    "Calculate the uncertainty map from a set of segmentations as described in the paper.\n",
    "\n",
    "Parameters\n",
    "\n",
    "    labels : ndarray\n",
    "        Shape: (num_segmentations, height, width, depth)\n",
    "        The set of segmentations to calculate uncertainty from.\n",
    "\n",
    "Returns\n",
    "\n",
    "    uncertainty_map : ndarray\n",
    "        Shape: (height, width, depth)\n",
    "        The uncertainty map, where each voxel value represents the uncertainty\n",
    "        in the segmentation."
   ]
  },
  {
   "cell_type": "code",
   "execution_count": null,
   "id": "d15c2701-08da-4741-be4c-2a8dac0e187c",
   "metadata": {},
   "outputs": [],
   "source": [
    "def calculate_uncertainty(labels):  \n",
    "    labels = labels.astype(int)\n",
    "    num_segmentations, height, width, depth = labels.shape\n",
    "    labels_reshaped = labels.reshape(num_segmentations, -1)  # Shape: (num_segmentations, height*width*depth)\n",
    "\n",
    "    # Use np.apply_along_axis to compute uncertainty\n",
    "    def calculate_for_voxel(voxel_labels):        \n",
    "        counts = np.bincount(voxel_labels)\n",
    "        mode_label_count = np.max(counts)\n",
    "        agreement_fraction = mode_label_count / len(voxel_labels)\n",
    "        uncertainty = 1 - agreement_fraction\n",
    "        return uncertainty\n",
    "\n",
    "    # Vectorized computation across all voxels\n",
    "    uncertainty_results = np.apply_along_axis(calculate_for_voxel, axis=0, arr=labels_reshaped)\n",
    "\n",
    "    # Reshape the flat uncertainty map back to the original spatial dimensions\n",
    "    uncertainty_map = uncertainty_results.reshape(height, width, depth)\n",
    "\n",
    "    return uncertainty_map"
   ]
  },
  {
   "cell_type": "markdown",
   "id": "e164d202-ff43-4f96-b2c5-1996eb8998c0",
   "metadata": {},
   "source": [
    "#### get_corresponding_ISMs():\n",
    "Given a path to a ground truth segmentation mask (GTSM) and a list of\n",
    "paths to inverted segmentation masks (ISMs), return a list of the ISMs\n",
    "that correspond to the GTSM.\n",
    "\n",
    "Parameters\n",
    "\n",
    "    GTSM_path : str\n",
    "        The path to the GTSM.\n",
    "    ISM_paths : list of str\n",
    "        A list of paths to the ISMs.\n",
    "\n",
    "Returns\n",
    "\n",
    "    list of ndarray\n",
    "        A list of the ISMs that correspond to the GTSM."
   ]
  },
  {
   "cell_type": "code",
   "execution_count": null,
   "id": "ff6df68d-5fe9-442e-b4d1-be421c62057e",
   "metadata": {},
   "outputs": [],
   "source": [
    "def get_corresponding_ISMs(GTSM_path, ISM_paths):\n",
    "    correspinding_label_masks = []\n",
    "    TOSM_file_name = os.path.splitext(os.path.basename(GTSM_path))[0].split('_SEGMENTATION')[0]\n",
    "    TCSM_files = {\n",
    "    os.path.splitext(os.path.basename(TCSM_path))[0].split('.nii.gz')[0]: TCSM_path \n",
    "    for TCSM_path in ISM_paths\n",
    "    }\n",
    "\n",
    "    for file_name, path in TCSM_files.items():\n",
    "        if TOSM_file_name in file_name:\n",
    "            correspinding_label_masks.append(load_nifti_file(path))\n",
    "    return correspinding_label_masks"
   ]
  },
  {
   "cell_type": "markdown",
   "id": "ca29a226-5b72-4956-a85f-ead041689413",
   "metadata": {},
   "source": [
    "#### get_nifti_file_paths():\n",
    "Retrieves the file paths of NIfTI files in the specified directory.\n",
    "\n",
    "This function searches for files with '.nii' or '.nii.gz' extensions\n",
    "in the given directory and returns their full paths.\n",
    "\n",
    "Args:\n",
    "    directory_path (str): The path to the directory containing NIfTI files.\n",
    "\n",
    "Returns:\n",
    "    list of str: A list of full file paths for each NIfTI file found in the directory."
   ]
  },
  {
   "cell_type": "code",
   "execution_count": null,
   "id": "b2b5bcb3-0f91-4068-9a0f-2ccc044e047c",
   "metadata": {},
   "outputs": [],
   "source": [
    "def get_nifti_file_paths(directory_path):\n",
    "    return [os.path.join(directory_path, f) for f in os.listdir(directory_path) if f.endswith('.nii') or f.endswith('.nii.gz')]"
   ]
  },
  {
   "cell_type": "markdown",
   "id": "ef852f5c-42ba-41cc-9c47-9e4a28d6a253",
   "metadata": {},
   "source": [
    "### Running the methods"
   ]
  },
  {
   "cell_type": "code",
   "execution_count": null,
   "id": "9bb2e1e8-5572-4666-af73-92e9b85934e8",
   "metadata": {},
   "outputs": [],
   "source": [
    "# Pick files and set up logging\n",
    "GTSM_dir_path, ISM_dir_path, output_path, logging_output_path = pick_files()\n",
    "GTSM_paths = get_nifti_file_paths(GTSM_dir_path)\n",
    "ISM_paths = get_nifti_file_paths(ISM_dir_path)\n",
    "logging_output_path = os.path.join(logging_output_path, f'heatmap_error.log')\n",
    "logging.basicConfig(\n",
    "    filename=logging_output_path,\n",
    "    level=logging.ERROR,\n",
    "    format='%(asctime)s - %(levelname)s - %(message)s'\n",
    "    )\n",
    "# For each ground truth segmentation mask, calculate the uncertainty heatmap, set the correct affine, and save it to the output folder\n",
    "for GTSM_path in tqdm(GTSM_paths, total=len(GTSM_paths), desc='Calculating Dice Heatmap'):\n",
    "    try:\n",
    "        # Load the ground truth segmentation mask  \n",
    "        GTSM_file = nib.load(GTSM_path)\n",
    "        # Find the corresponding inverted segmentation masks\n",
    "        correspoding_ISMs = get_corresponding_ISMs(GTSM_path, ISM_paths)\n",
    "        # Calculate the uncertainty heatmap\n",
    "        heatmap = calculate_uncertainty(np.array(correspoding_ISMs))\n",
    "        # Set the correct affine and save\n",
    "        affine = GTSM_file.affine\n",
    "        nib.save(nib.Nifti1Image(heatmap, affine), os.path.join(output_path, f\"{os.path.basename(GTSM_path).split('.nii.gz')[0]}_HEATMAP.nii.gz\"))\n",
    "    except Exception as e:\n",
    "        logging.error(f\"Error processing {GTSM_path}: {e}, continuing...\")\n",
    "        logging.error(traceback.format_exc())\n",
    "        continue"
   ]
  }
 ],
 "metadata": {
  "kernelspec": {
   "display_name": "Python 3 (ipykernel)",
   "language": "python",
   "name": "python3"
  },
  "language_info": {
   "codemirror_mode": {
    "name": "ipython",
    "version": 3
   },
   "file_extension": ".py",
   "mimetype": "text/x-python",
   "name": "python",
   "nbconvert_exporter": "python",
   "pygments_lexer": "ipython3",
   "version": "3.9.19"
  }
 },
 "nbformat": 4,
 "nbformat_minor": 5
}
